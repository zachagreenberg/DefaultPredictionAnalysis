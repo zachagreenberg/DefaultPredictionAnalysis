{
 "cells": [
  {
   "cell_type": "code",
   "execution_count": 1,
   "metadata": {},
   "outputs": [],
   "source": [
    "#import libraries\n",
    "import pandas as pd\n",
    "import numpy as np\n",
    "import seaborn as sns\n",
    "import matplotlib.pyplot as plt\n",
    "%matplotlib inline\n",
    "\n",
    "import warnings\n",
    "warnings.filterwarnings('ignore')"
   ]
  },
  {
   "cell_type": "code",
   "execution_count": 2,
   "metadata": {},
   "outputs": [],
   "source": [
    "#read in data\n",
    "df = pd.read_csv('data/training_data.csv', index_col=0)"
   ]
  },
  {
   "cell_type": "code",
   "execution_count": 3,
   "metadata": {},
   "outputs": [
    {
     "data": {
      "text/plain": [
       "0                             17471\n",
       "1                              5028\n",
       "default payment next month        1\n",
       "Name: Y, dtype: int64"
      ]
     },
     "execution_count": 3,
     "metadata": {},
     "output_type": "execute_result"
    }
   ],
   "source": [
    "#looking at target variable\n",
    "df.Y.value_counts()"
   ]
  },
  {
   "cell_type": "code",
   "execution_count": 4,
   "metadata": {},
   "outputs": [],
   "source": [
    "#renaming the columns\n",
    "columns = df.loc['ID'].values #I'll be saving these column names for the test set\n",
    "\n",
    "df.columns = columns \n",
    "\n",
    "#dropping that row\n",
    "df.drop(['ID'], inplace = True)"
   ]
  },
  {
   "cell_type": "code",
   "execution_count": 5,
   "metadata": {},
   "outputs": [],
   "source": [
    "#renaming the target value \n",
    "df = df.rename(columns = {'default payment next month': 'DEFAULT'})"
   ]
  },
  {
   "cell_type": "code",
   "execution_count": 6,
   "metadata": {},
   "outputs": [
    {
     "data": {
      "text/plain": [
       "LIMIT_BAL    object\n",
       "SEX          object\n",
       "dtype: object"
      ]
     },
     "execution_count": 6,
     "metadata": {},
     "output_type": "execute_result"
    }
   ],
   "source": [
    "df.dtypes.head(2)"
   ]
  },
  {
   "cell_type": "code",
   "execution_count": 7,
   "metadata": {},
   "outputs": [],
   "source": [
    "#renaming the other columns based on their descriptions:\n",
    "df = df.rename(columns = {'PAY_0':'PAYSTATUS_SEP','PAY_2':'PAYSTATUS_AUG', 'PAY_3':'PAYSTATUS_JUL', 'PAY_4':'PAYSTATUS_JUN', 'PAY_5':'PAYSTATUS_MAY', 'PAY_6':'PAYSTATUS_APR',\n",
    "                         'BILL_AMT1':'BILLAMT_SEP', 'BILL_AMT2':'BILLAMT_AUG','BILL_AMT3':'BILLAMT_JUL', 'BILL_AMT4':'BILLAMT_JUN', 'BILL_AMT5':'BILLAMT_MAY', 'BILL_AMT6':'BILLAMT_APR',\n",
    "                         'PAY_AMT1': 'PAYAMT_SEP', 'PAY_AMT2': 'PAYAMT_AUG', 'PAY_AMT3': 'PAYAMT_JUL', 'PAY_AMT4': 'PAYAMT_JUN', 'PAY_AMT5': 'PAYAMT_MAY', 'PAY_AMT6': 'PAYAMT_APR' })\n",
    "\n",
    "#converting columns to their appropriate dtypes\n",
    "df = df.astype({'LIMIT_BAL': np.float32 , 'BILLAMT_SEP':np.float32, 'BILLAMT_AUG':np.float32, 'BILLAMT_JUL':np.float32, 'BILLAMT_JUN':np.float32,\n",
    "                'BILLAMT_MAY':np.float32, 'BILLAMT_APR':np.float32, 'PAYAMT_SEP':np.float32, 'PAYAMT_AUG':np.float32, \n",
    "               'PAYAMT_JUL':np.float32, 'PAYAMT_JUN':np.float32, 'PAYAMT_MAY':np.float32, 'PAYAMT_APR':np.float32})"
   ]
  },
  {
   "cell_type": "code",
   "execution_count": 8,
   "metadata": {},
   "outputs": [
    {
     "data": {
      "text/plain": [
       "LIMIT_BAL    float32\n",
       "SEX           object\n",
       "EDUCATION     object\n",
       "MARRIAGE      object\n",
       "AGE           object\n",
       "dtype: object"
      ]
     },
     "execution_count": 8,
     "metadata": {},
     "output_type": "execute_result"
    }
   ],
   "source": [
    "df.dtypes.head()"
   ]
  },
  {
   "cell_type": "markdown",
   "metadata": {},
   "source": [
    "Before I start cleaning I am going to evaluate the target variable."
   ]
  },
  {
   "cell_type": "code",
   "execution_count": 9,
   "metadata": {},
   "outputs": [
    {
     "data": {
      "image/png": "[encoded data removed]",
      "text/plain": [
       "<Figure size 432x288 with 1 Axes>"
      ]
     },
     "metadata": {
      "needs_background": "light"
     },
     "output_type": "display_data"
    }
   ],
   "source": [
    "fig, ax = plt.subplots()\n",
    "sns.countplot(df['DEFAULT'])\n",
    "ax.set_title('Default on Bank Loan Payment')\n",
    "ax.set_xticklabels(['Yes', 'No']);"
   ]
  },
  {
   "cell_type": "code",
   "execution_count": 10,
   "metadata": {},
   "outputs": [
    {
     "name": "stdout",
     "output_type": "stream",
     "text": [
      "0.22347659895995378\n"
     ]
    }
   ],
   "source": [
    "print(df[df['DEFAULT'] == '1'].shape[0] / df.shape[0])"
   ]
  },
  {
   "cell_type": "markdown",
   "metadata": {},
   "source": [
    "The dataset is imbalanced. The majority of the people do not default on their payments. There is approximately an 80/20% imbalance in the dataset in favor of NONDEFAULTERS. I am going to set my class_weight parameter to 'balanced' to try to make a more even playing field. For now, I am going to clean the data as is so no major cleaning changes would be affected."
   ]
  },
  {
   "cell_type": "code",
   "execution_count": null,
   "metadata": {},
   "outputs": [],
   "source": []
  }
 ],
 "metadata": {
  "kernelspec": {
   "display_name": "Python 3",
   "language": "python",
   "name": "python3"
  },
  "language_info": {
   "codemirror_mode": {
    "name": "ipython",
    "version": 3
   },
   "file_extension": ".py",
   "mimetype": "text/x-python",
   "name": "python",
   "nbconvert_exporter": "python",
   "pygments_lexer": "ipython3",
   "version": "3.8.5"
  },
  "toc": {
   "base_numbering": 1,
   "nav_menu": {},
   "number_sections": true,
   "sideBar": true,
   "skip_h1_title": false,
   "title_cell": "Table of Contents",
   "title_sidebar": "Contents",
   "toc_cell": false,
   "toc_position": {},
   "toc_section_display": true,
   "toc_window_display": false
  },
  "varInspector": {
   "cols": {
    "lenName": 16,
    "lenType": 16,
    "lenVar": 40
   },
   "kernels_config": {
    "python": {
     "delete_cmd_postfix": "",
     "delete_cmd_prefix": "del ",
     "library": "var_list.py",
     "varRefreshCmd": "print(var_dic_list())"
    },
    "r": {
     "delete_cmd_postfix": ") ",
     "delete_cmd_prefix": "rm(",
     "library": "var_list.r",
     "varRefreshCmd": "cat(var_dic_list()) "
    }
   },
   "types_to_exclude": [
    "module",
    "function",
    "builtin_function_or_method",
    "instance",
    "_Feature"
   ],
   "window_display": false
  }
 },
 "nbformat": 4,
 "nbformat_minor": 4
}
