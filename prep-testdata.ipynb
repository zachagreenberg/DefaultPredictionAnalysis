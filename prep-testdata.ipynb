{
 "cells": [
  {
   "cell_type": "code",
   "execution_count": 1,
   "metadata": {},
   "outputs": [],
   "source": [
    "#importing libraries\n",
    "import pandas as pd\n",
    "import numpy as np\n",
    "import pickle\n",
    "\n",
    "pd.set_option('display.max_columns', 300)"
   ]
  },
  {
   "cell_type": "code",
   "execution_count": 2,
   "metadata": {},
   "outputs": [
    {
     "name": "stdout",
     "output_type": "stream",
     "text": [
      "(7501, 23)\n"
     ]
    },
    {
     "data": {
      "text/html": [
       "<div>\n",
       "<style scoped>\n",
       "    .dataframe tbody tr th:only-of-type {\n",
       "        vertical-align: middle;\n",
       "    }\n",
       "\n",
       "    .dataframe tbody tr th {\n",
       "        vertical-align: top;\n",
       "    }\n",
       "\n",
       "    .dataframe thead th {\n",
       "        text-align: right;\n",
       "    }\n",
       "</style>\n",
       "<table border=\"1\" class=\"dataframe\">\n",
       "  <thead>\n",
       "    <tr style=\"text-align: right;\">\n",
       "      <th></th>\n",
       "      <th>X1</th>\n",
       "      <th>X2</th>\n",
       "      <th>X3</th>\n",
       "      <th>X4</th>\n",
       "      <th>X5</th>\n",
       "      <th>X6</th>\n",
       "      <th>X7</th>\n",
       "      <th>X8</th>\n",
       "      <th>X9</th>\n",
       "      <th>X10</th>\n",
       "      <th>X11</th>\n",
       "      <th>X12</th>\n",
       "      <th>X13</th>\n",
       "      <th>X14</th>\n",
       "      <th>X15</th>\n",
       "      <th>X16</th>\n",
       "      <th>X17</th>\n",
       "      <th>X18</th>\n",
       "      <th>X19</th>\n",
       "      <th>X20</th>\n",
       "      <th>X21</th>\n",
       "      <th>X22</th>\n",
       "      <th>X23</th>\n",
       "    </tr>\n",
       "  </thead>\n",
       "  <tbody>\n",
       "    <tr>\n",
       "      <th>5501</th>\n",
       "      <td>180000</td>\n",
       "      <td>2</td>\n",
       "      <td>2</td>\n",
       "      <td>1</td>\n",
       "      <td>44</td>\n",
       "      <td>0</td>\n",
       "      <td>0</td>\n",
       "      <td>0</td>\n",
       "      <td>0</td>\n",
       "      <td>0</td>\n",
       "      <td>0</td>\n",
       "      <td>161186</td>\n",
       "      <td>167080</td>\n",
       "      <td>170788</td>\n",
       "      <td>174764</td>\n",
       "      <td>162667</td>\n",
       "      <td>166953</td>\n",
       "      <td>10000</td>\n",
       "      <td>8000</td>\n",
       "      <td>7000</td>\n",
       "      <td>6000</td>\n",
       "      <td>7000</td>\n",
       "      <td>10000</td>\n",
       "    </tr>\n",
       "    <tr>\n",
       "      <th>28857</th>\n",
       "      <td>130000</td>\n",
       "      <td>2</td>\n",
       "      <td>2</td>\n",
       "      <td>1</td>\n",
       "      <td>48</td>\n",
       "      <td>-2</td>\n",
       "      <td>-2</td>\n",
       "      <td>-2</td>\n",
       "      <td>-2</td>\n",
       "      <td>-2</td>\n",
       "      <td>-2</td>\n",
       "      <td>0</td>\n",
       "      <td>1240</td>\n",
       "      <td>1487</td>\n",
       "      <td>1279</td>\n",
       "      <td>749</td>\n",
       "      <td>440</td>\n",
       "      <td>1240</td>\n",
       "      <td>1487</td>\n",
       "      <td>1279</td>\n",
       "      <td>749</td>\n",
       "      <td>440</td>\n",
       "      <td>849</td>\n",
       "    </tr>\n",
       "    <tr>\n",
       "      <th>11272</th>\n",
       "      <td>60000</td>\n",
       "      <td>2</td>\n",
       "      <td>1</td>\n",
       "      <td>1</td>\n",
       "      <td>43</td>\n",
       "      <td>-1</td>\n",
       "      <td>3</td>\n",
       "      <td>2</td>\n",
       "      <td>0</td>\n",
       "      <td>0</td>\n",
       "      <td>-1</td>\n",
       "      <td>495</td>\n",
       "      <td>330</td>\n",
       "      <td>495</td>\n",
       "      <td>330</td>\n",
       "      <td>165</td>\n",
       "      <td>340</td>\n",
       "      <td>0</td>\n",
       "      <td>330</td>\n",
       "      <td>0</td>\n",
       "      <td>0</td>\n",
       "      <td>340</td>\n",
       "      <td>0</td>\n",
       "    </tr>\n",
       "    <tr>\n",
       "      <th>8206</th>\n",
       "      <td>240000</td>\n",
       "      <td>1</td>\n",
       "      <td>1</td>\n",
       "      <td>1</td>\n",
       "      <td>42</td>\n",
       "      <td>0</td>\n",
       "      <td>0</td>\n",
       "      <td>0</td>\n",
       "      <td>0</td>\n",
       "      <td>0</td>\n",
       "      <td>0</td>\n",
       "      <td>72339</td>\n",
       "      <td>91045</td>\n",
       "      <td>91027</td>\n",
       "      <td>51508</td>\n",
       "      <td>51127</td>\n",
       "      <td>0</td>\n",
       "      <td>20000</td>\n",
       "      <td>2213</td>\n",
       "      <td>1030</td>\n",
       "      <td>1023</td>\n",
       "      <td>6790</td>\n",
       "      <td>10893</td>\n",
       "    </tr>\n",
       "    <tr>\n",
       "      <th>6362</th>\n",
       "      <td>100000</td>\n",
       "      <td>2</td>\n",
       "      <td>2</td>\n",
       "      <td>1</td>\n",
       "      <td>28</td>\n",
       "      <td>2</td>\n",
       "      <td>0</td>\n",
       "      <td>0</td>\n",
       "      <td>0</td>\n",
       "      <td>0</td>\n",
       "      <td>2</td>\n",
       "      <td>73073</td>\n",
       "      <td>74739</td>\n",
       "      <td>70844</td>\n",
       "      <td>63924</td>\n",
       "      <td>57326</td>\n",
       "      <td>59654</td>\n",
       "      <td>3500</td>\n",
       "      <td>3003</td>\n",
       "      <td>1910</td>\n",
       "      <td>2400</td>\n",
       "      <td>3300</td>\n",
       "      <td>0</td>\n",
       "    </tr>\n",
       "  </tbody>\n",
       "</table>\n",
       "</div>"
      ],
      "text/plain": [
       "           X1  X2  X3  X4  X5  X6  X7  X8  X9  X10  X11     X12     X13  \\\n",
       "5501   180000   2   2   1  44   0   0   0   0    0    0  161186  167080   \n",
       "28857  130000   2   2   1  48  -2  -2  -2  -2   -2   -2       0    1240   \n",
       "11272   60000   2   1   1  43  -1   3   2   0    0   -1     495     330   \n",
       "8206   240000   1   1   1  42   0   0   0   0    0    0   72339   91045   \n",
       "6362   100000   2   2   1  28   2   0   0   0    0    2   73073   74739   \n",
       "\n",
       "          X14     X15     X16     X17    X18   X19   X20   X21   X22    X23  \n",
       "5501   170788  174764  162667  166953  10000  8000  7000  6000  7000  10000  \n",
       "28857    1487    1279     749     440   1240  1487  1279   749   440    849  \n",
       "11272     495     330     165     340      0   330     0     0   340      0  \n",
       "8206    91027   51508   51127       0  20000  2213  1030  1023  6790  10893  \n",
       "6362    70844   63924   57326   59654   3500  3003  1910  2400  3300      0  "
      ]
     },
     "execution_count": 2,
     "metadata": {},
     "output_type": "execute_result"
    }
   ],
   "source": [
    "#reading in data\n",
    "df = pd.read_csv('data/testing_data.csv', index_col = 'Unnamed: 0')\n",
    "print(df.shape)\n",
    "df.head()"
   ]
  },
  {
   "cell_type": "code",
   "execution_count": 3,
   "metadata": {},
   "outputs": [],
   "source": [
    "#bringing in the model\n",
    "infile = open(\"model.pickle\",'rb')\n",
    "model = pickle.load(infile)\n",
    "infile.close()"
   ]
  },
  {
   "cell_type": "code",
   "execution_count": 4,
   "metadata": {},
   "outputs": [
    {
     "data": {
      "text/plain": [
       "{'C': 0.01,\n",
       " 'class_weight': 'balanced',\n",
       " 'dual': False,\n",
       " 'fit_intercept': True,\n",
       " 'intercept_scaling': 1,\n",
       " 'l1_ratio': None,\n",
       " 'max_iter': 100,\n",
       " 'multi_class': 'auto',\n",
       " 'n_jobs': None,\n",
       " 'penalty': 'l2',\n",
       " 'random_state': None,\n",
       " 'solver': 'sag',\n",
       " 'tol': 0.0001,\n",
       " 'verbose': 0,\n",
       " 'warm_start': False}"
      ]
     },
     "execution_count": 4,
     "metadata": {},
     "output_type": "execute_result"
    }
   ],
   "source": [
    "model.get_params()"
   ]
  },
  {
   "cell_type": "code",
   "execution_count": 5,
   "metadata": {},
   "outputs": [],
   "source": [
    "#bringing in the saved variables\n",
    "infile = open(\"saved_variables.pickle\",'rb')\n",
    "saved_variables = pickle.load(infile)\n",
    "infile.close()"
   ]
  },
  {
   "cell_type": "code",
   "execution_count": 6,
   "metadata": {},
   "outputs": [
    {
     "data": {
      "text/plain": [
       "[array(['LIMIT_BAL', 'SEX', 'EDUCATION', 'MARRIAGE', 'AGE', 'PAY_0',\n",
       "        'PAY_2', 'PAY_3', 'PAY_4', 'PAY_5', 'PAY_6', 'BILL_AMT1',\n",
       "        'BILL_AMT2', 'BILL_AMT3', 'BILL_AMT4', 'BILL_AMT5', 'BILL_AMT6',\n",
       "        'PAY_AMT1', 'PAY_AMT2', 'PAY_AMT3', 'PAY_AMT4', 'PAY_AMT5',\n",
       "        'PAY_AMT6', 'default payment next month'], dtype=object),\n",
       " 816379.3359375,\n",
       " StandardScaler()]"
      ]
     },
     "execution_count": 6,
     "metadata": {},
     "output_type": "execute_result"
    }
   ],
   "source": [
    "saved_variables"
   ]
  },
  {
   "cell_type": "code",
   "execution_count": 7,
   "metadata": {},
   "outputs": [],
   "source": [
    "#assigning the saved variables to new names\n",
    "columns = saved_variables[0] #column names\n",
    "five_sd = saved_variables[1] #std for the LIMIT_BAL var\n",
    "scaler = saved_variables[2] #the scaler"
   ]
  },
  {
   "cell_type": "code",
   "execution_count": 8,
   "metadata": {},
   "outputs": [
    {
     "data": {
      "text/plain": [
       "X1    0.0\n",
       "X2    0.0\n",
       "dtype: float64"
      ]
     },
     "execution_count": 8,
     "metadata": {},
     "output_type": "execute_result"
    }
   ],
   "source": [
    "#checking for null values\n",
    "df.isna().mean().head(2)"
   ]
  },
  {
   "cell_type": "code",
   "execution_count": 9,
   "metadata": {},
   "outputs": [],
   "source": [
    "#Changing the column names \n",
    "df.columns = columns[:-1] #excluding the DEFAULT variable from the training set\n",
    "\n",
    "#renaming some of the other columns for clearer descriptions:\n",
    "df = df.rename(columns = {'PAY_0':'PAYSTATUS_SEP','PAY_2':'PAYSTATUS_AUG', 'PAY_3':'PAYSTATUS_JUL', 'PAY_4':'PAYSTATUS_JUN', 'PAY_5':'PAYSTATUS_MAY', 'PAY_6':'PAYSTATUS_APR',\n",
    "                         'BILL_AMT1':'BILLAMT_SEP', 'BILL_AMT2':'BILLAMT_AUG','BILL_AMT3':'BILLAMT_JUL', 'BILL_AMT4':'BILLAMT_JUN', 'BILL_AMT5':'BILLAMT_MAY', 'BILL_AMT6':'BILLAMT_APR',\n",
    "                         'PAY_AMT1': 'PAYAMT_SEP', 'PAY_AMT2': 'PAYAMT_AUG', 'PAY_AMT3': 'PAYAMT_JUL', 'PAY_AMT4': 'PAYAMT_JUN', 'PAY_AMT5': 'PAYAMT_MAY', 'PAY_AMT6': 'PAYAMT_APR' })"
   ]
  },
  {
   "cell_type": "code",
   "execution_count": 10,
   "metadata": {},
   "outputs": [
    {
     "data": {
      "text/plain": [
       "LIMIT_BAL    int64\n",
       "SEX          int64\n",
       "dtype: object"
      ]
     },
     "execution_count": 10,
     "metadata": {},
     "output_type": "execute_result"
    }
   ],
   "source": [
    "df.dtypes.head(2)"
   ]
  },
  {
   "cell_type": "code",
   "execution_count": 11,
   "metadata": {},
   "outputs": [],
   "source": [
    "#converting continuous to their appropriate dtypes\n",
    "df = df.astype({'LIMIT_BAL': np.float32 , 'BILLAMT_SEP':np.float32, 'BILLAMT_AUG':np.float32, 'BILLAMT_JUL':np.float32, 'BILLAMT_JUN':np.float32,\n",
    "                'BILLAMT_MAY':np.float32, 'BILLAMT_APR':np.float32, 'PAYAMT_SEP':np.float32, 'PAYAMT_AUG':np.float32, \n",
    "               'PAYAMT_JUL':np.float32, 'PAYAMT_JUN':np.float32, 'PAYAMT_MAY':np.float32, 'PAYAMT_APR':np.float32})\n",
    "#converting the categorical ones\n",
    "df = df.astype({'SEX': object, 'EDUCATION': object, 'MARRIAGE': object, 'AGE': object, 'PAYSTATUS_SEP':object,\n",
    "                'PAYSTATUS_AUG': object, 'PAYSTATUS_JUL': object, 'PAYSTATUS_JUN': object, 'PAYSTATUS_JUL':object,\n",
    "                'PAYSTATUS_APR': object})\n",
    "              "
   ]
  },
  {
   "cell_type": "code",
   "execution_count": 12,
   "metadata": {},
   "outputs": [],
   "source": [
    "#CLEANING THE DATA IN THE COLUMNS\n",
    "\n",
    "#df['SEX']\n",
    "df['SEX'] = np.where(df['SEX'] == 1, 1, 0)\n",
    "\n",
    "#df['EDUCATION']\n",
    "conditions = [df['EDUCATION'] == 1,df['EDUCATION'] ==2,df['EDUCATION'] ==3,df['EDUCATION'] ==4]\n",
    "choices = [1,2,3,4]\n",
    "df['EDUCATION'] = np.select(conditions, choices, default = 2)\n",
    "\n",
    "#df['MARRIAGE']\n",
    "df['MARRIAGE'] = np.where(df['MARRIAGE'] == 0, 2, df['MARRIAGE'])\n",
    "\n",
    "#df['AGE']\n",
    "df['AGE'] = df['AGE'].astype('int')\n",
    "\n",
    "def age_groups(x):\n",
    "    if x in range(20, 30):\n",
    "        return '2'\n",
    "    elif x in range(30, 40):\n",
    "        return '3'\n",
    "    else:\n",
    "        return '4'\n",
    "\n",
    "df['AGE_GROUPS'] = df['AGE'].apply(lambda x: age_groups(x))\n",
    "df['AGE'] = df['AGE_GROUPS']\n",
    "df.drop('AGE_GROUPS', axis = 1, inplace = True)\n",
    "\n",
    "#df['LIM_BAL']\n",
    "df['LIMIT_BAL'] = np.where(df['LIMIT_BAL'] > five_sd, five_sd, df['LIMIT_BAL'])\n",
    "\n",
    "#PAYSTATS\n",
    "def impute(cols):\n",
    "    for i in cols:\n",
    "        df[i]=np.where(df[i]==-2,0,df[i])\n",
    "    return df\n",
    "\n",
    "df = impute(list(df.columns[5:11]))"
   ]
  }
 ],
 "metadata": {
  "kernelspec": {
   "display_name": "Python 3",
   "language": "python",
   "name": "python3"
  },
  "language_info": {
   "codemirror_mode": {
    "name": "ipython",
    "version": 3
   },
   "file_extension": ".py",
   "mimetype": "text/x-python",
   "name": "python",
   "nbconvert_exporter": "python",
   "pygments_lexer": "ipython3",
   "version": "3.8.5"
  },
  "toc": {
   "base_numbering": 1,
   "nav_menu": {},
   "number_sections": true,
   "sideBar": true,
   "skip_h1_title": false,
   "title_cell": "Table of Contents",
   "title_sidebar": "Contents",
   "toc_cell": false,
   "toc_position": {},
   "toc_section_display": true,
   "toc_window_display": false
  },
  "varInspector": {
   "cols": {
    "lenName": 16,
    "lenType": 16,
    "lenVar": 40
   },
   "kernels_config": {
    "python": {
     "delete_cmd_postfix": "",
     "delete_cmd_prefix": "del ",
     "library": "var_list.py",
     "varRefreshCmd": "print(var_dic_list())"
    },
    "r": {
     "delete_cmd_postfix": ") ",
     "delete_cmd_prefix": "rm(",
     "library": "var_list.r",
     "varRefreshCmd": "cat(var_dic_list()) "
    }
   },
   "types_to_exclude": [
    "module",
    "function",
    "builtin_function_or_method",
    "instance",
    "_Feature"
   ],
   "window_display": false
  }
 },
 "nbformat": 4,
 "nbformat_minor": 4
}
